{
 "cells": [
  {
   "cell_type": "markdown",
   "metadata": {},
   "source": [
    "<h1> DS200A Computer Vision Assignment</h1>"
   ]
  },
  {
   "cell_type": "code",
   "execution_count": 14,
   "metadata": {},
   "outputs": [],
   "source": [
    "from datainput import *\n",
    "import pandas as pd\n",
    "import matplotlib.pyplot as plt\n",
    "import numpy as np\n",
    "import seaborn as sns\n",
    "\n",
    "train_path = './20_categories_training/'\n",
    "val_path = './20_Validation/'\n",
    "# try not to printout train_data['Pictures'] directly, takes a while\n",
    "train_data = read_train_data(train_path)\n",
    "test_data = read_test_data(val_path)"
   ]
  },
  {
   "cell_type": "markdown",
   "metadata": {},
   "source": [
    "<h2>  Part Two: Exploratory data analysis and feature extraction. </h2>\t\n"
   ]
  },
  {
   "cell_type": "markdown",
   "metadata": {},
   "source": [
    "<h5> In this section, Compute at least 15 such image features (a method for each), including the following (NOTE: At least 10 of these must be scalar features and 2 matrix-based features): (i) image size, (ii) average of the red-channel intensity, (iii) aspectratio. This will require significant explatoratory research and data analysis. The first one is already implemented for you, and the next two are pre-specified. Additional requirements specfied in pdf. </h5>"
   ]
  },
  {
   "cell_type": "code",
   "execution_count": 72,
   "metadata": {},
   "outputs": [],
   "source": [
    "class feature_extract:\n",
    "    \"\"\"class method for easy plotting and function call\"\"\"\n",
    "    def __init__(self):\n",
    "        self.methods = {0:\"image size\",\n",
    "                        1:\"red-channel average\",\n",
    "                        2:\"aspect ratio\",\n",
    "                        3:\"green-channel average\",\n",
    "                        4:\"blue-channel average\"}\n",
    "        self.maps = {0:feature_extract.ft0, \n",
    "                   1:feature_extract.ft1,\n",
    "                   2:feature_extract.ft2,\n",
    "                   3:feature_extract.ft3,\n",
    "                   4:feature_extract.ft4,\n",
    "                   5:feature_extract.ft5}\n",
    "    \n",
    "    @staticmethod\n",
    "    def ft0(image):\n",
    "        # Returns the pixel size of the image\n",
    "        return image.size\n",
    "    @staticmethod\n",
    "    def ft1(image):\n",
    "        # Returns the average of the red-channel pictures for the images\n",
    "        return np.mean(image[:,:,0]) if len(image.shape)==3 else np.mean(image)\n",
    "    @staticmethod\n",
    "    def ft2(image):\n",
    "        #Returns the aspect ratio of the image\n",
    "        return image.shape[1]/image.shape[0]\n",
    "    @staticmethod\n",
    "    def ft3(image):\n",
    "        # green channel\n",
    "        return np.mean(image[:,:,1]) if len(image.shape)==3 else np.mean(image)\n",
    "    @staticmethod\n",
    "    def ft4(image):\n",
    "        # blue channel\n",
    "        return np.mean(image[:,:,2]) if len(image.shape)==3 else np.mean(image)\n",
    "    @staticmethod\n",
    "    def ft5(image):\n",
    "        return len(image.shape)\n"
   ]
  },
  {
   "cell_type": "code",
   "execution_count": 74,
   "metadata": {},
   "outputs": [
    {
     "data": {
      "image/png": "[encoded data removed]",
      "text/plain": [
       "<Figure size 432x288 with 1 Axes>"
      ]
     },
     "metadata": {
      "needs_background": "light"
     },
     "output_type": "display_data"
    }
   ],
   "source": [
    "# visualize feature spread over different categories\n",
    "# check if there is any meaningful difference\n",
    "fe = feature_extract() # feature extract instance\n",
    "choice = 1 # choose from 0-14\n",
    "feature = train_data.Pictures.apply(fe.maps[choice])\n",
    "sns.boxplot(train_data.Encoding, feature, showfliers=False)\n",
    "plt.ylabel(fe.methods[choice])\n",
    "plt.show()"
   ]
  },
  {
   "cell_type": "code",
   "execution_count": 59,
   "metadata": {},
   "outputs": [
    {
     "data": {
      "text/plain": [
       "Array([[14,  0, 11, ...,  0,  0,  0],\n",
       "       [24,  1, 17, ...,  0,  0,  0],\n",
       "       [34,  6, 16, ...,  0,  0,  0],\n",
       "       ...,\n",
       "       [ 5,  3,  2, ...,  3,  3,  4],\n",
       "       [ 0,  0,  0, ...,  1,  0,  0],\n",
       "       [ 5,  4,  3, ...,  1,  0,  0]], dtype=uint8)"
      ]
     },
     "execution_count": 59,
     "metadata": {},
     "output_type": "execute_result"
    }
   ],
   "source": [
    "outliers = train_data[train_data.Pictures.apply(feature_extract.ft5) != 3]\n",
    "outliers.iloc[3,0]"
   ]
  },
  {
   "cell_type": "markdown",
   "metadata": {},
   "source": [
    " We expect all external sources sited, and significant indication of EDA. "
   ]
  },
  {
   "cell_type": "markdown",
   "metadata": {},
   "source": [
    "<h4> Graphs </h4>"
   ]
  },
  {
   "cell_type": "code",
   "execution_count": null,
   "metadata": {
    "collapsed": true
   },
   "outputs": [],
   "source": []
  },
  {
   "cell_type": "markdown",
   "metadata": {},
   "source": [
    "<h4> Sources </h4>"
   ]
  },
  {
   "cell_type": "code",
   "execution_count": null,
   "metadata": {
    "collapsed": true
   },
   "outputs": [],
   "source": []
  },
  {
   "cell_type": "markdown",
   "metadata": {},
   "source": [
    "<h4> DataFrame Creation </h4>"
   ]
  },
  {
   "cell_type": "code",
   "execution_count": 2,
   "metadata": {
    "collapsed": true
   },
   "outputs": [],
   "source": [
    "def feature_frame(df):\n",
    "    return df\n",
    "    #Returns data-frame with all the features now inside, and calculated\n"
   ]
  },
  {
   "cell_type": "code",
   "execution_count": 3,
   "metadata": {},
   "outputs": [
    {
     "ename": "NameError",
     "evalue": "name 'starting_data' is not defined",
     "output_type": "error",
     "traceback": [
      "\u001b[1;31m---------------------------------------------------------------------------\u001b[0m",
      "\u001b[1;31mNameError\u001b[0m                                 Traceback (most recent call last)",
      "\u001b[1;32m<ipython-input-3-8b1b5be4e99b>\u001b[0m in \u001b[0;36m<module>\u001b[1;34m()\u001b[0m\n\u001b[1;32m----> 1\u001b[1;33m \u001b[0mfeature_frame\u001b[0m\u001b[1;33m(\u001b[0m\u001b[0mstarting_data\u001b[0m\u001b[1;33m)\u001b[0m\u001b[1;33m\u001b[0m\u001b[0m\n\u001b[0m",
      "\u001b[1;31mNameError\u001b[0m: name 'starting_data' is not defined"
     ]
    }
   ],
   "source": [
    "feature_frame(train_data)"
   ]
  },
  {
   "cell_type": "code",
   "execution_count": null,
   "metadata": {
    "collapsed": true
   },
   "outputs": [],
   "source": []
  }
 ],
 "metadata": {
  "kernelspec": {
   "display_name": "Python 3",
   "language": "python",
   "name": "python3"
  },
  "language_info": {
   "codemirror_mode": {
    "name": "ipython",
    "version": 3
   },
   "file_extension": ".py",
   "mimetype": "text/x-python",
   "name": "python",
   "nbconvert_exporter": "python",
   "pygments_lexer": "ipython3",
   "version": "3.7.4"
  }
 },
 "nbformat": 4,
 "nbformat_minor": 2
}
